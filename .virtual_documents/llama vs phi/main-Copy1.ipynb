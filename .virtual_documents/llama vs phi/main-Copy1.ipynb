#install necessary modules
get_ipython().run_line_magic("pip", " install python-dotenv --quiet")
get_ipython().run_line_magic("pip", " install llama_index --quiet")
get_ipython().run_line_magic("pip", " install llama-index-llms-cohere --quiet")
get_ipython().run_line_magic("pip", " install llama-index-embeddings-cohere --quiet")
get_ipython().run_line_magic("pip", " install llama-index-postprocessor-cohere_rerank --quiet")


import nest_asyncio
from dotenv import load_dotenv
from IPython.display import Markdown, display

from llama_index.core import Settings
from llama_index.core import VectorStoreIndex, ServiceContext, SimpleDirectoryReader

from llama_index.llms.cohere import Cohere
from llama_index.embeddings.cohere import CohereEmbedding
from llama_index.postprocessor.cohere_rerank import CohereRerank


# allows nested access to the event loop
nest_asyncio.apply()


# put your API key here, find one at: https://dashboard.cohere.com/api-keys
API_KEY = '78VIkLojM7jzapX9GeFsFYq4I9qIVB6uZWoE5fWo'

# add your documents in this directory, you can drag & drop
input_dir_path = '/home/ec2-user/SageMaker/Cohere model/test-dir'



# setup llm & embedding model
llm = Cohere(api_key=API_KEY, model="command-r-plus")

embed_model = CohereEmbedding(
    cohere_api_key=API_KEY,
    model_name="embed-english-v3.0",
    input_type="search_query",
)


# load data
loader = SimpleDirectoryReader(
            input_dir = input_dir_path,
            required_exts=[".pdf"],
            recursive=True
        )
docs = loader.load_data()

# Creating an index over loaded data
Settings.embed_model = embed_model
index = VectorStoreIndex.from_documents(docs, show_progress=True)

# Create a cohere reranker 
cohere_rerank = CohereRerank(
                        model='rerank-english-v3.0',
                        api_key=API_KEY,
                    )
# Create the query engine, where we use a cohere reranker on the fetched nodes
Settings.llm = llm
query_engine = index.as_query_engine(node_postprocessors=[cohere_rerank])

# Generate the response
response = query_engine.query("What is the summary of this research paper?",)


display(Markdown(str(response)))



